{
 "cells": [
  {
   "metadata": {},
   "cell_type": "markdown",
   "source": [
    "## Step_1: Loading Neo4j Credentials in Python  \n",
    "This code imports necessary libraries and reads Neo4j connection details from `credentials.json`.  \n"
   ],
   "id": "8fcaad508ed8035"
  },
  {
   "cell_type": "code",
   "id": "initial_id",
   "metadata": {
    "collapsed": true,
    "ExecuteTime": {
     "end_time": "2024-11-15T15:06:08.045428Z",
     "start_time": "2024-11-15T15:06:06.964222Z"
    }
   },
   "source": [
    "from pyspark.sql import SparkSession\n",
    "import networkx as nx\n",
    "from tqdm import tqdm\n",
    "import pickle\n",
    "import pandas as pd \n",
    "import json\n",
    "\n",
    "with open('credentials.json', 'r') as file:\n",
    "    config = json.load(file)\n",
    "\n",
    "# Database configs\n",
    "db_url = config[\"db_url\"]\n",
    "db_username = config[\"db_username\"]\n",
    "db_password = config[\"db_password\"]\n",
    "db_name = config[\"db_name\"]"
   ],
   "outputs": [],
   "execution_count": 1
  },
  {
   "metadata": {},
   "cell_type": "markdown",
   "source": [
    "## Step_2: Initializing SparkSession for Neo4j  \n",
    "This segment configures and initializes a SparkSession to connect to Neo4j with specified database credentials and resources.  \n"
   ],
   "id": "3de4008d74c7a8b5"
  },
  {
   "metadata": {
    "ExecuteTime": {
     "end_time": "2024-11-15T15:06:15.513453Z",
     "start_time": "2024-11-15T15:06:10.047644Z"
    }
   },
   "cell_type": "code",
   "source": [
    "spark_obj = (\n",
    "    SparkSession.builder.config(\"neo4j.url\", db_url)\n",
    "    .config(\"spark.network.timeout\", \"600s\")\n",
    "    .config(\"spark.executor.heartbeatInterval\", \"100s\")\n",
    "    .config(\"spark.executor.memory\", \"4g\")\n",
    "    .config(\"spark.executor.cores\", \"2\")  \n",
    "    .config(\"spark.driver.memory\", \"4g\")\n",
    "    .config(\"spark.jars\", \"neo4j-connector-apache-spark_2.12-5.3.2_for_spark_3.jar\")\n",
    "    .config(\"neo4j.authentication.basic.username\", db_username)\n",
    "    .config(\"neo4j.authentication.basic.password\", db_password)\n",
    "    .config(\"neo4j.database\", db_name)\n",
    "    .getOrCreate())"
   ],
   "id": "dcb672786a57a248",
   "outputs": [],
   "execution_count": 2
  },
  {
   "metadata": {},
   "cell_type": "markdown",
   "source": [
    "## Step_3 Loading Graph from Neo4j  \n",
    "This function queries nodes and edges from Neo4j using Spark, converts them to Pandas DataFrames, and constructs a NetworkX graph object with detailed node attributes and edges.  \n"
   ],
   "id": "aeee4b7ecf6f293f"
  },
  {
   "metadata": {
    "ExecuteTime": {
     "end_time": "2024-11-15T15:06:17.212500Z",
     "start_time": "2024-11-15T15:06:17.204439Z"
    }
   },
   "cell_type": "code",
   "source": [
    "def load_graph_from_neo4j(_spark_obj):\n",
    "    nodes_df = _spark_obj.read \\\n",
    "        .format(\"org.neo4j.spark.DataSource\") \\\n",
    "        .option(\"query\", \"MATCH (p:Paper) RETURN p.paper_id as paper_id, p.venue as venue, p.labels as labels, p.authors as authors\") \\\n",
    "        .load()\n",
    "    \n",
    "    edges_df = _spark_obj.read \\\n",
    "        .format(\"org.neo4j.spark.DataSource\") \\\n",
    "        .option(\"query\", \"MATCH (p1:Paper)-[:CITES]->(p2:Paper) RETURN p1.paper_id as citing, p2.paper_id as cited\")\\\n",
    "        .load()\n",
    "    \n",
    "    nodes = nodes_df.toPandas()\n",
    "    edges = edges_df.toPandas()\n",
    "    \n",
    "    graph_obj = nx.Graph()\n",
    "    for _, row in tqdm(nodes.iterrows(), total=nodes.shape[0], desc=\"Loading nodes\"):\n",
    "        graph_obj.add_node(row['paper_id'], Venue=row['venue'], Labels=row['labels'], Authors=row['authors'])\n",
    "\n",
    "    for _, row in tqdm(edges.iterrows(), total=edges.shape[0], desc=\"Loading edges\"):\n",
    "        graph_obj.add_edge(row['citing'], row['cited'])\n",
    "\n",
    "    print(\"Graph loaded with\", graph_obj.number_of_nodes(), \"nodes and\", graph_obj.number_of_edges(),\"edges.\")\n",
    "    \n",
    "    return nodes, edges, graph_obj"
   ],
   "id": "be9a5735cec8dce6",
   "outputs": [],
   "execution_count": 3
  },
  {
   "metadata": {
    "ExecuteTime": {
     "end_time": "2024-11-15T15:07:51.042137Z",
     "start_time": "2024-11-15T15:06:18.359609Z"
    }
   },
   "cell_type": "code",
   "source": "nodes, edges, G = load_graph_from_neo4j(spark_obj)",
   "id": "a41d99be2fd8753b",
   "outputs": [
    {
     "name": "stderr",
     "output_type": "stream",
     "text": [
      "Loading nodes: 100%|██████████| 564340/564340 [00:22<00:00, 24830.16it/s]\n",
      "Loading edges: 100%|██████████| 957727/957727 [00:35<00:00, 26639.26it/s]\n"
     ]
    },
    {
     "name": "stdout",
     "output_type": "stream",
     "text": [
      "Graph loaded with 564340 nodes and 955748 edges.\n"
     ]
    }
   ],
   "execution_count": 4
  },
  {
   "metadata": {},
   "cell_type": "markdown",
   "source": [
    "## Step_4 Similarity Ranking using SimRank  \n",
    "This function computes similarity rankings for a query node using SimRank with different importance factors (`c`) on a subgraph extracted from Neo4j. It ranks the top-k similar nodes and prints the results.  \n"
   ],
   "id": "af02ace70221eacf"
  },
  {
   "metadata": {
    "ExecuteTime": {
     "end_time": "2024-11-15T15:07:59.633414Z",
     "start_time": "2024-11-15T15:07:59.620172Z"
    }
   },
   "cell_type": "code",
   "source": [
    "def similarity_ranking(g_obj, _query_node, top_k,  _spark_obj, _edges):\n",
    "    # Importance Factor\n",
    "    print(\"Query node:\", _query_node)\n",
    "    c = [0.7, 0.8, 0.9]\n",
    "    sim_matrix = {}\n",
    "    \n",
    "    cypher_query = f\"\"\"\n",
    "    MATCH (n)-[:CITES*1..3]-(m)\n",
    "    WHERE n.paper_id = '{_query_node}'\n",
    "    RETURN DISTINCT m.paper_id as paper_id, m.authors as authors, m.labels as labels, m.venue as venue\n",
    "    \"\"\"\n",
    "    subgraph_df = _spark_obj.read \\\n",
    "        .format(\"org.neo4j.spark.DataSource\") \\\n",
    "        .option(\"query\", cypher_query) \\\n",
    "        .load()\n",
    "        \n",
    "    subgraph_df = subgraph_df.select(\"*\").toPandas()\n",
    "    \n",
    "    valid_ids = set(subgraph_df['paper_id'])\n",
    "    filtered_edges = _edges[\n",
    "        _edges['citing'].isin(valid_ids) & _edges['cited'].isin(valid_ids)\n",
    "    ]\n",
    "    \n",
    "    subgraph_obj = nx.DiGraph()  \n",
    "    \n",
    "    for _, row in subgraph_df.iterrows():\n",
    "        subgraph_obj.add_node(row['paper_id'], Authors=row['authors'], Labels=row['labels'], Venue=row['venue'])\n",
    "    \n",
    "    for _, row in filtered_edges.iterrows():\n",
    "        subgraph_obj.add_edge(row['citing'], row['cited'])\n",
    "        \n",
    "    for imp_factor in c:\n",
    "        sim_matrix[imp_factor] = nx.simrank_similarity(subgraph_obj, source=query_node, importance_factor=imp_factor, tolerance=0.000005)\n",
    "        \n",
    "    top_nodes = {}\n",
    "\n",
    "    for c, similarities in sim_matrix.items():\n",
    "        top_nodes[c] = sorted(similarities.items(), key=lambda x: x[1], reverse=True)[:top_k]\n",
    "    \n",
    "    for c, top_k in top_nodes.items():\n",
    "        print(f\"Top 10 nodes for c={c}:\")\n",
    "        for node, similarity in top_k:\n",
    "            print(f\"Node: {node}, Similarity: {similarity}\")\n",
    "        print()\n",
    "        \n",
    "    return sim_matrix\n"
   ],
   "id": "584e0610f124ecec",
   "outputs": [],
   "execution_count": 5
  },
  {
   "metadata": {},
   "cell_type": "markdown",
   "source": "## SimRank for query_1 : 2982615777 for c = 0.7,0.8,0.9\n",
   "id": "9c8849812410b33e"
  },
  {
   "metadata": {
    "ExecuteTime": {
     "end_time": "2024-11-15T15:12:33.710418Z",
     "start_time": "2024-11-15T15:11:51.005085Z"
    }
   },
   "cell_type": "code",
   "source": [
    "query_node = input(\"Enter Query node: \")\n",
    "query = str(query_node)\n",
    "k = int(input(\"Enter Top k values: \"))\n",
    "similarity_matrix = similarity_ranking(G, query_node, top_k=k, _spark_obj=spark_obj,_edges=edges)"
   ],
   "id": "e49a77948b8874bf",
   "outputs": [
    {
     "name": "stdout",
     "output_type": "stream",
     "text": [
      "Query node: 2982615777\n",
      "Top 10 nodes for c=0.7:\n",
      "Node: 2982615777, Similarity: 1.0\n",
      "Node: 2604445413, Similarity: 0.0\n",
      "Node: 1487773734, Similarity: 0.0\n",
      "Node: 2573184146, Similarity: 0.0\n",
      "Node: 2129988636, Similarity: 0.0\n",
      "Node: 2410108711, Similarity: 0.0\n",
      "Node: 1172733195, Similarity: 0.0\n",
      "Node: 162515996, Similarity: 0.0\n",
      "Node: 2605269223, Similarity: 0.0\n",
      "Node: 1999984505, Similarity: 0.0\n",
      "\n",
      "Top 10 nodes for c=0.8:\n",
      "Node: 2982615777, Similarity: 1.0\n",
      "Node: 2604445413, Similarity: 0.0\n",
      "Node: 1487773734, Similarity: 0.0\n",
      "Node: 2573184146, Similarity: 0.0\n",
      "Node: 2129988636, Similarity: 0.0\n",
      "Node: 2410108711, Similarity: 0.0\n",
      "Node: 1172733195, Similarity: 0.0\n",
      "Node: 162515996, Similarity: 0.0\n",
      "Node: 2605269223, Similarity: 0.0\n",
      "Node: 1999984505, Similarity: 0.0\n",
      "\n",
      "Top 10 nodes for c=0.9:\n",
      "Node: 2982615777, Similarity: 1.0\n",
      "Node: 2604445413, Similarity: 0.0\n",
      "Node: 1487773734, Similarity: 0.0\n",
      "Node: 2573184146, Similarity: 0.0\n",
      "Node: 2129988636, Similarity: 0.0\n",
      "Node: 2410108711, Similarity: 0.0\n",
      "Node: 1172733195, Similarity: 0.0\n",
      "Node: 162515996, Similarity: 0.0\n",
      "Node: 2605269223, Similarity: 0.0\n",
      "Node: 1999984505, Similarity: 0.0\n",
      "\n"
     ]
    }
   ],
   "execution_count": 8
  },
  {
   "metadata": {},
   "cell_type": "markdown",
   "source": "## SimRank for query_2 : 1556418098 c = 0.7,0.8,0.9",
   "id": "f9fa8d9737fb7d9b"
  },
  {
   "metadata": {},
   "cell_type": "code",
   "outputs": [
    {
     "name": "stdout",
     "output_type": "stream",
     "text": [
      "Query node: 1556418098\n",
      "Top 10 nodes for c=0.7:\n",
      "Node: 1556418098, Similarity: 1.0\n",
      "Node: 2158129819, Similarity: 0.06364215473841438\n",
      "Node: 2133689609, Similarity: 0.06364215473841438\n",
      "Node: 1831222313, Similarity: 0.06363636363636363\n",
      "Node: 2197996701, Similarity: 0.04454545454545454\n",
      "Node: 2031218379, Similarity: 0.03182366214524881\n",
      "Node: 1994772839, Similarity: 0.0318218388447181\n",
      "Node: 2139975922, Similarity: 0.031818264886868466\n",
      "Node: 2154083146, Similarity: 0.02969696969696969\n",
      "Node: 1930723014, Similarity: 0.027840909090909083\n",
      "\n",
      "Top 10 nodes for c=0.8:\n",
      "Node: 1556418098, Similarity: 1.0\n",
      "Node: 2158129819, Similarity: 0.07273647419987554\n",
      "Node: 2133689609, Similarity: 0.07273647419987554\n",
      "Node: 1831222313, Similarity: 0.07272727272727274\n",
      "Node: 2197996701, Similarity: 0.058181818181818196\n",
      "Node: 2154083146, Similarity: 0.038787878787878795\n",
      "Node: 2031218379, Similarity: 0.03637234578764584\n",
      "Node: 1994772839, Similarity: 0.036369562453467286\n",
      "Node: 2139975922, Similarity: 0.036363798426147634\n",
      "Node: 1930723014, Similarity: 0.03636363636363637\n",
      "\n",
      "Top 10 nodes for c=0.9:\n",
      "Node: 1556418098, Similarity: 1.0\n",
      "Node: 2158129819, Similarity: 0.08183207883809783\n",
      "Node: 2133689609, Similarity: 0.08183207883809783\n",
      "Node: 1831222313, Similarity: 0.08181818181818182\n",
      "Node: 2197996701, Similarity: 0.07363636363636364\n",
      "Node: 2154083146, Similarity: 0.04909090909090909\n",
      "Node: 1930723014, Similarity: 0.04602272727272727\n",
      "Node: 2143255850, Similarity: 0.04296649333633332\n",
      "Node: 2031218379, Similarity: 0.040922253451143205\n",
      "Node: 1994772839, Similarity: 0.04091821031930192\n",
      "\n"
     ]
    }
   ],
   "execution_count": 7,
   "source": [
    "query_node = input(\"Enter Query node: \")\n",
    "query = str(query_node)\n",
    "k = int(input(\"Enter Top k values: \"))\n",
    "similarity_matrix = similarity_ranking(G, query_node, top_k=k, _spark_obj=spark_obj,_edges=edges)"
   ],
   "id": "dbd83296bca0a8df"
  }
 ],
 "metadata": {
  "kernelspec": {
   "display_name": "Python 3",
   "language": "python",
   "name": "python3"
  },
  "language_info": {
   "codemirror_mode": {
    "name": "ipython",
    "version": 2
   },
   "file_extension": ".py",
   "mimetype": "text/x-python",
   "name": "python",
   "nbconvert_exporter": "python",
   "pygments_lexer": "ipython2",
   "version": "2.7.6"
  }
 },
 "nbformat": 4,
 "nbformat_minor": 5
}
